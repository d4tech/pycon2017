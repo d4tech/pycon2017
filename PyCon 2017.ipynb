{
 "cells": [
  {
   "cell_type": "markdown",
   "metadata": {
    "slideshow": {
     "slide_type": "slide"
    }
   },
   "source": [
    "![saama](images/slide_1.png)"
   ]
  },
  {
   "cell_type": "markdown",
   "metadata": {
    "slideshow": {
     "slide_type": "skip"
    }
   },
   "source": [
    "# Boosting Tensorflow inference performance with asyncio\n",
    "### by Derrick Joseph, Associate Consultant, Saama Technologies Pvt Ltd."
   ]
  },
  {
   "cell_type": "markdown",
   "metadata": {
    "slideshow": {
     "slide_type": "slide"
    }
   },
   "source": [
    "### About me..\n",
    "\n",
    "* I am Derrick Joseph , Research Engineer focused on bringing Software Engineering Practice to world of Deep Learning. \n",
    "* I am currently trying to optimize and accelerate drug clinical trials using Deep Learning. \n",
    "* Connect with me \n",
    "    * Linkedin : https://www.linkedin.com/in/derrick-joseph-545566a4/\n",
    "    * Twitter  : @c0d3eswaran\n",
    "    * Email    : derrick.joseph@saama.com"
   ]
  },
  {
   "cell_type": "markdown",
   "metadata": {
    "slideshow": {
     "slide_type": "slide"
    }
   },
   "source": [
    "### What is a \"Tensor\" in Tensorflow...?\n",
    "\n",
    "* A mathematical structure that is basically a group of matrices(vectors, scalars).\n",
    "* The major advantage is mathematical operations can be done on a batch of multiple linear equtions.\n",
    "* Can be represented with higher and more complex dimensions than traditional matrices."
   ]
  },
  {
   "cell_type": "markdown",
   "metadata": {
    "slideshow": {
     "slide_type": "subslide"
    }
   },
   "source": [
    "![Tensors](images/tensor examples.svg)"
   ]
  },
  {
   "cell_type": "markdown",
   "metadata": {
    "slideshow": {
     "slide_type": "slide"
    }
   },
   "source": [
    "### But Alas, every Rose 🌹 has a thorn.\n",
    "\n",
    "Batching is fine on papers and while training the model but in a production service..😶 🤐\n",
    "\n",
    "\n",
    "![Batching](images/batching.png)\n",
    "\n",
    "> https://www.tensorflow.org/serving/serving_advanced"
   ]
  },
  {
   "cell_type": "markdown",
   "metadata": {
    "slideshow": {
     "slide_type": "slide"
    }
   },
   "source": [
    "## There has to be a better way...🤔 \n",
    "\n",
    "We need to figure out a scalable way to batch tensors in a production deep learning service."
   ]
  },
  {
   "cell_type": "markdown",
   "metadata": {
    "slideshow": {
     "slide_type": "slide"
    }
   },
   "source": [
    "## Actor and CSP patterns\n",
    "\n",
    "* Both were suggested by the same Computer Scientist **Tony Hoare**.\n",
    "* Actor pattern in 1973 and CSP in 1978.\n",
    "* CSP stands for **Communicating Sequential Processes**.\n",
    "\n",
    "Both look eerily similar but have a lot of major differences"
   ]
  },
  {
   "cell_type": "markdown",
   "metadata": {
    "slideshow": {
     "slide_type": "slide"
    }
   },
   "source": [
    "## CSP a quick primer\n",
    "\n",
    "* **Communicating Sequential Processes**\n",
    "* Consists of Processes connected via Channels(think of Pipes if you like that, *but Pipe is an OS primitve*).\n",
    "* In this context **Process and Channels are not created with OS services** but rather by the VM internally.\n",
    "* Processes respond to Events.\n",
    "* Example of an Event can be availability of a message on the Channel a Process is listening to.\n",
    "* **Events are managed by OS Service \"Selectors\".**\n"
   ]
  },
  {
   "cell_type": "markdown",
   "metadata": {
    "slideshow": {
     "slide_type": "slide"
    }
   },
   "source": [
    "## Coroutine FAQs..\n",
    "\n",
    "* A Subroutine is a block of assembly code that does not returns a value, but rather changes the values of Processor registers. It is a low level primitive.\n",
    "* A function is a highler level primitive that starts execution and returns a value, it has a single entry and exit point like the traditional `def foo():`.\n",
    "* A Coroutine is a high level primitive that has multiple entry and exit point for eg a generator.\n",
    "```python\n",
    "def gen_foo():\n",
    "    yield 1\n",
    "    yield 2\n",
    "```"
   ]
  },
  {
   "cell_type": "markdown",
   "metadata": {
    "slideshow": {
     "slide_type": "subslide"
    }
   },
   "source": [
    "### Coroutine FAQs contd..:\n",
    "* Threads, Processes and Pipes are OS Primitives managed by OS and are controlled by the VM usig OS kernel services.\n",
    "* Coroutines are completely a VM Primitive, OS isnt aware of the existence of a coroutine.\n",
    "* The coroutine waits for its designated Event to occur.\n",
    "  ```python\n",
    "  data = await a_data_source()\n",
    "  # or\n",
    "  yield some_value\n",
    "  ```\n",
    "* These Events are OS Primitves managed by the OS.\n",
    "* The OS Services that manages events are, KqueueSelector for OSX, Epoll/poll for Linux, Select or Windows.\n",
    "* For more info refer to the documentation of `selectors` module in Python3."
   ]
  },
  {
   "cell_type": "markdown",
   "metadata": {
    "slideshow": {
     "slide_type": "subslide"
    }
   },
   "source": [
    "### How does a Coroutine/generator work in Python.\n",
    "* When a Function call happens:\n",
    "    1. Python Creates a Stack Frame inside the VM Stack(PUSH) and assigns the respective PyCodeObject to the frame.\n",
    "    2. Executes the Function code.\n",
    "    3. Takes the Return value, POPS the Stack Frame off the VM Stack by marking it for Garbage collection.\n"
   ]
  },
  {
   "cell_type": "markdown",
   "metadata": {
    "slideshow": {
     "slide_type": "fragment"
    }
   },
   "source": [
    "** The Python VM Stack is actually a HEAP behaving like a STACK..!!!**😮\n",
    "\n",
    "Which means you can pick and choose STACK frames and not necessarily maintain a LIFO order.\n",
    "An yield statements freezes the current state of the generator and returns the value, upon calling next(generator) it continues from the frozen state."
   ]
  },
  {
   "cell_type": "markdown",
   "metadata": {
    "slideshow": {
     "slide_type": "slide"
    }
   },
   "source": [
    "### So, Why are we talking about this..?"
   ]
  },
  {
   "cell_type": "markdown",
   "metadata": {
    "slideshow": {
     "slide_type": "fragment"
    }
   },
   "source": [
    "1. The idea is to make PythonVM do the complicated **state management** for us.\n",
    "2. Especially the parts where we use external dependencies like **Redis, Celery etc**."
   ]
  },
  {
   "cell_type": "markdown",
   "metadata": {
    "slideshow": {
     "slide_type": "slide"
    }
   },
   "source": [
    "## Asyncio\n",
    "\n",
    "* Builds on generators.\n",
    "* Uses OS Selectors to become self sustaining psuedo processes.\n",
    "* Borrows design cues from Twisted.\n",
    "* Consists of an **Event Loop that deals with OS Selector service**\n",
    "* Coroutines are submitted to the Event Loop, at that point they become **Future**, analogous to JavaScript Promises.\n",
    "* When the ***Future* is resolved and starts execution by the *event loop* the Future is called a *Task* **"
   ]
  },
  {
   "cell_type": "markdown",
   "metadata": {
    "slideshow": {
     "slide_type": "slide"
    }
   },
   "source": [
    "## Coroutine Chains\n",
    "* Coroutines can be connected to form a lightweight Data Pipeline.\n",
    "* Two types of Chains:\n",
    "    1. Coroutine spawns new child Coroutine(Actor Pattern).\n",
    "    2. Producer and Consumer Coroutines are connected by a Message passing Pipeline(CSP Pattern)."
   ]
  },
  {
   "cell_type": "markdown",
   "metadata": {
    "slideshow": {
     "slide_type": "slide"
    }
   },
   "source": [
    "### Coroutine spawning Coroutine"
   ]
  },
  {
   "cell_type": "code",
   "execution_count": null,
   "metadata": {
    "slideshow": {
     "slide_type": "subslide"
    }
   },
   "outputs": [],
   "source": [
    "from sanic import Sanic\n",
    "from sanic import response\n",
    "from signal import signal, SIGINT\n",
    "import asyncio\n",
    "import uvloop\n",
    "\n",
    "app = Sanic(__name__)\n",
    "\n",
    "async def child(sample,ws):\n",
    "    resp = await a_batch_processing_service(sample)\n",
    "    await ws.send(resp)\n",
    "    \n",
    "\n",
    "@app.route(\"/process_sample\")\n",
    "async def parent(request):\n",
    "    fut = asyncio.ensure_future(child(request.get(data),ws))\n",
    "    fut.add_done_callback(lambda fut:log.info('DONE'))\n",
    "    return\n",
    "\n",
    "if __name__ == '__main__':\n",
    "    app.run(host=\"0.0.0.0\", port=8000, debug=True)"
   ]
  },
  {
   "cell_type": "code",
   "execution_count": 1,
   "metadata": {
    "slideshow": {
     "slide_type": "subslide"
    }
   },
   "outputs": [
    {
     "data": {
      "text/html": [
       "<iframe src=\"https://docs.google.com/a/saama.com/presentation/d/e/2PACX-1vRRFuZEwpzgElezcJmoqn2wSR2MvXOcntSC32cvdPKcKUpCopul7T3wTtoC5kF2_10I2t40mHNLWfzL/embed?start=false&loop=false&delayms=3000\" frameborder=\"0\" width=\"960\" height=\"569\" allowfullscreen=\"true\" mozallowfullscreen=\"true\" webkitallowfullscreen=\"true\"></iframe>"
      ],
      "text/plain": [
       "<IPython.core.display.HTML object>"
      ]
     },
     "execution_count": 1,
     "metadata": {},
     "output_type": "execute_result"
    }
   ],
   "source": [
    "from IPython.core.display import HTML, display\n",
    "HTML(\"\"\"<iframe src=\"https://docs.google.com/a/saama.com/presentation/d/e/2PACX-1vRRFuZEwpzgElezcJmoqn2wSR2MvXOcntSC32cvdPKcKUpCopul7T3wTtoC5kF2_10I2t40mHNLWfzL/embed?start=false&loop=false&delayms=3000\" frameborder=\"0\" width=\"960\" height=\"569\" allowfullscreen=\"true\" mozallowfullscreen=\"true\" webkitallowfullscreen=\"true\"></iframe>\"\"\")"
   ]
  },
  {
   "cell_type": "markdown",
   "metadata": {
    "slideshow": {
     "slide_type": "slide"
    }
   },
   "source": [
    "## Connected Coroutines/Coroutine chains\n",
    "Producer and Consumer coroutines..."
   ]
  },
  {
   "cell_type": "code",
   "execution_count": null,
   "metadata": {
    "slideshow": {
     "slide_type": "slide"
    }
   },
   "outputs": [],
   "source": [
    "import asyncio;import random\n",
    "\n",
    "async def produce(queue, n):\n",
    "    for x in range(n):\n",
    "        # produce an item\n",
    "        print('producing {}/{}'.format(x, n))\n",
    "        # simulate i/o operation using sleep\n",
    "        await asyncio.sleep(random.random())\n",
    "        item = str(x)\n",
    "        # put the item in the queue\n",
    "        await queue.put(item)\n",
    "\n",
    "async def consume(queue):\n",
    "    while True:\n",
    "        # wait for an item from the producer\n",
    "        item = await queue.get()\n",
    "\n",
    "        # process the item\n",
    "        print('consuming {}...'.format(item))\n",
    "        # simulate i/o operation using sleep\n",
    "        await asyncio.sleep(random.random())\n",
    "\n",
    "        # Notify the queue that the item has been processed\n",
    "        queue.task_done()\n",
    "\n",
    "async def run(n):\n",
    "    queue = asyncio.Queue()\n",
    "    # schedule the consumer\n",
    "    consumer = asyncio.ensure_future(consume(queue))\n",
    "    # run the producer and wait for completion\n",
    "    await produce(queue, n)\n",
    "    # wait until the consumer has processed all items\n",
    "    await queue.join()\n",
    "    # the consumer is still awaiting for an item, cancel it\n",
    "    consumer.cancel()\n",
    "\n",
    "\n",
    "loop = asyncio.get_event_loop()\n",
    "loop.run_until_complete(run(10))\n",
    "loop.close()"
   ]
  },
  {
   "cell_type": "code",
   "execution_count": 2,
   "metadata": {
    "slideshow": {
     "slide_type": "slide"
    }
   },
   "outputs": [
    {
     "data": {
      "text/html": [
       "<iframe src=\"https://docs.google.com/a/saama.com/presentation/d/e/2PACX-1vTZpD8Qb8MD1FCC0gQtYNHpGTiC04gpkA8H85_JR9bznIJysryq8AF2YU1zuSH5IC-lthMfUGA6Xq90/embed?start=false&loop=false&delayms=3000\" frameborder=\"0\" width=\"960\" height=\"569\" allowfullscreen=\"true\" mozallowfullscreen=\"true\" webkitallowfullscreen=\"true\"></iframe>"
      ],
      "text/plain": [
       "<IPython.core.display.HTML object>"
      ]
     },
     "execution_count": 2,
     "metadata": {},
     "output_type": "execute_result"
    }
   ],
   "source": [
    "from IPython.core.display import HTML, display\n",
    "HTML(\"\"\"<iframe src=\"https://docs.google.com/a/saama.com/presentation/d/e/2PACX-1vTZpD8Qb8MD1FCC0gQtYNHpGTiC04gpkA8H85_JR9bznIJysryq8AF2YU1zuSH5IC-lthMfUGA6Xq90/embed?start=false&loop=false&delayms=3000\" frameborder=\"0\" width=\"960\" height=\"569\" allowfullscreen=\"true\" mozallowfullscreen=\"true\" webkitallowfullscreen=\"true\"></iframe>\"\"\")"
   ]
  },
  {
   "cell_type": "code",
   "execution_count": null,
   "metadata": {
    "collapsed": true
   },
   "outputs": [],
   "source": []
  }
 ],
 "metadata": {
  "celltoolbar": "Slideshow",
  "kernelspec": {
   "display_name": "Python 3",
   "language": "python",
   "name": "python3"
  },
  "language_info": {
   "codemirror_mode": {
    "name": "ipython",
    "version": 3
   },
   "file_extension": ".py",
   "mimetype": "text/x-python",
   "name": "python",
   "nbconvert_exporter": "python",
   "pygments_lexer": "ipython3",
   "version": "3.6.3"
  }
 },
 "nbformat": 4,
 "nbformat_minor": 2
}
